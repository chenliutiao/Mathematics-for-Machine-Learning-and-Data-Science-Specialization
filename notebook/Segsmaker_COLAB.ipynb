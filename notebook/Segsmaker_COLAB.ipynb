{
  "nbformat": 4,
  "nbformat_minor": 0,
  "metadata": {
    "colab": {
      "provenance": [],
      "gpuType": "T4"
    },
    "kernelspec": {
      "name": "python3",
      "display_name": "Python 3"
    },
    "language_info": {
      "name": "python"
    },
    "accelerator": "GPU"
  },
  "cells": [
    {
      "cell_type": "markdown",
      "source": [
        "<a href=\"https://github.com/gutris1/segsmaker\">\n",
        "  <img alt=\"GitHub repo\" src=\"https://img.shields.io/badge/GitHub-6e5494?style=for-the-badge&logo=github&logoColor=white\"/>\n",
        "</a>\n",
        "\n",
        "**webui list** = A1111, Forge, ComfyUI, ReForge, SwarmUI<br>\n",
        "**sd list** = 1.5 or XL<br>\n",
        "**civitai_key** = get your civitai api key from [here](https://civitai.com/user/account)<br>\n",
        "**hf_read_token** = for downloading models from your huggingface private repo (**optional**)"
      ],
      "metadata": {
        "id": "COlOWoTOMKSP"
      }
    },
    {
      "cell_type": "code",
      "execution_count": 1,
      "metadata": {
        "id": "tQqllRM-MCnT",
        "outputId": "555d2d3d-d633-4f5e-84b2-091ca9098865",
        "colab": {
          "base_uri": "https://localhost:8080/",
          "height": 863
        }
      },
      "outputs": [
        {
          "output_type": "display_data",
          "data": {
            "text/html": [
              "<img src=\"https://github.com/gutris1/segsmaker/raw/main/script/SM/loading.png\"/>"
            ],
            "text/plain": [
              "<IPython.core.display.Image object>"
            ]
          },
          "metadata": {}
        },
        {
          "output_type": "display_data",
          "data": {
            "text/plain": [
              "<IPython.core.display.HTML object>"
            ],
            "text/html": [
              "<span style='color:red;'><b>【</span> <span style='color:d;'>Installing ComfyUI</span> <span style='color:red;'>】</span> <span></b></span>"
            ]
          },
          "metadata": {}
        },
        {
          "output_type": "stream",
          "name": "stdout",
          "text": [
            "  ComfyUI ▶ https://github.com/comfyanonymous/ComfyUI\n",
            "\n",
            "  pull : comfyui \n",
            "  from : https://github.com/gutris1/segsmaker \n",
            "  into : /content/ComfyUI\n",
            "\n",
            "  6dd9b5|\u001b[38;5;35mOK\u001b[0m  |   2.6MiB/s|\u001b[38;5;208m/\u001b[0mcontent\u001b[38;5;208m/\u001b[0mComfyUI\u001b[38;5;208m/\u001b[0masd\u001b[38;5;208m/\u001b[0mcontrolnet.py\n",
            "  242ff4|\u001b[38;5;35mOK\u001b[0m  |   678KiB/s|\u001b[38;5;208m/\u001b[0mcontent\u001b[38;5;208m/\u001b[0mComfyUI\u001b[38;5;208m/\u001b[0msegsmaker.py\n",
            "  e733fa|\u001b[38;5;35mOK\u001b[0m  |   112MiB/s|\u001b[38;5;208m/\u001b[0mcontent\u001b[38;5;208m/\u001b[0mComfyUI\u001b[38;5;208m/\u001b[0mmodels\u001b[38;5;208m/\u001b[0mupscale_models\u001b[38;5;208m/\u001b[0m4x-UltraSharp.pth\n",
            "  541e04|\u001b[38;5;35mOK\u001b[0m  |   118MiB/s|\u001b[38;5;208m/\u001b[0mcontent\u001b[38;5;208m/\u001b[0mComfyUI\u001b[38;5;208m/\u001b[0mmodels\u001b[38;5;208m/\u001b[0mupscale_models\u001b[38;5;208m/\u001b[0m4x-AnimeSharp.pth\n",
            "  1cade8|\u001b[38;5;35mOK\u001b[0m  |   131MiB/s|\u001b[38;5;208m/\u001b[0mcontent\u001b[38;5;208m/\u001b[0mComfyUI\u001b[38;5;208m/\u001b[0mmodels\u001b[38;5;208m/\u001b[0mupscale_models\u001b[38;5;208m/\u001b[0m4x_NMKD-Superscale-SP_178000_G.pth\n",
            "  569db5|\u001b[38;5;35mOK\u001b[0m  |   124MiB/s|\u001b[38;5;208m/\u001b[0mcontent\u001b[38;5;208m/\u001b[0mComfyUI\u001b[38;5;208m/\u001b[0mmodels\u001b[38;5;208m/\u001b[0mupscale_models\u001b[38;5;208m/\u001b[0m8x_NMKD-Superscale_150000_G.pth\n",
            " \u001b[35m【\u001b[0m\u001b[36m#\u001b[0m\u001b[38;5;35m14f4ad\u001b[0m 109\u001b[38;5;135mMiB\u001b[0m\u001b[35m/\u001b[0m127\u001b[38;5;135mMiB\u001b[0m\u001b[35m(\u001b[0m85%\u001b[35m)\u001b[0m \u001b[36mCN\u001b[0m:\u001b[38;5;208m16\u001b[0m \u001b[36mDL\u001b[0m:154\u001b[38;5;135mMiB\u001b[0m\u001b[35m】\u001b[0m\n",
            "  14f4ad|\u001b[38;5;35mOK\u001b[0m  |   149MiB/s|\u001b[38;5;208m/\u001b[0mcontent\u001b[38;5;208m/\u001b[0mComfyUI\u001b[38;5;208m/\u001b[0mmodels\u001b[38;5;208m/\u001b[0mupscale_models\u001b[38;5;208m/\u001b[0m4x_RealisticRescaler_100000_G.pth\n",
            "  f06d60|\u001b[38;5;35mOK\u001b[0m  |   131MiB/s|\u001b[38;5;208m/\u001b[0mcontent\u001b[38;5;208m/\u001b[0mComfyUI\u001b[38;5;208m/\u001b[0mmodels\u001b[38;5;208m/\u001b[0mupscale_models\u001b[38;5;208m/\u001b[0m8x_RealESRGAN.pth\n",
            "  b1bcce|\u001b[38;5;35mOK\u001b[0m  |   127MiB/s|\u001b[38;5;208m/\u001b[0mcontent\u001b[38;5;208m/\u001b[0mComfyUI\u001b[38;5;208m/\u001b[0mmodels\u001b[38;5;208m/\u001b[0mupscale_models\u001b[38;5;208m/\u001b[0m4x_foolhardy_Remacri.pth\n",
            "  c84f47|\u001b[38;5;35mOK\u001b[0m  |   153MiB/s|\u001b[38;5;208m/\u001b[0mcontent\u001b[38;5;208m/\u001b[0mComfyUI\u001b[38;5;208m/\u001b[0mmodels\u001b[38;5;208m/\u001b[0mupscale_models\u001b[38;5;208m/\u001b[0m4x_NMKD-YandereNeoXL_200k.pth\n",
            "  f50700|\u001b[38;5;35mOK\u001b[0m  |   133MiB/s|\u001b[38;5;208m/\u001b[0mcontent\u001b[38;5;208m/\u001b[0mComfyUI\u001b[38;5;208m/\u001b[0mmodels\u001b[38;5;208m/\u001b[0mupscale_models\u001b[38;5;208m/\u001b[0m4x_NMKD-UltraYandere_300k.pth\n",
            "  3ff750|\u001b[38;5;35mOK\u001b[0m  |   5.7MiB/s|\u001b[38;5;208m/\u001b[0mcontent\u001b[38;5;208m/\u001b[0mComfyUI\u001b[38;5;208m/\u001b[0membeddingsXL.zip\n",
            " \u001b[35m【\u001b[0m\u001b[36m#\u001b[0m\u001b[38;5;35md223e0\u001b[0m 167\u001b[38;5;135mMiB\u001b[0m\u001b[35m/\u001b[0m319\u001b[38;5;135mMiB\u001b[0m\u001b[35m(\u001b[0m52%\u001b[35m)\u001b[0m \u001b[36mCN\u001b[0m:\u001b[38;5;208m16\u001b[0m \u001b[36mDL\u001b[0m:202\u001b[38;5;135mMiB\u001b[0m\u001b[35m】\u001b[0m\n",
            "  d223e0|\u001b[38;5;35mOK\u001b[0m  |   215MiB/s|\u001b[38;5;208m/\u001b[0mcontent\u001b[38;5;208m/\u001b[0mComfyUI\u001b[38;5;208m/\u001b[0mmodels\u001b[38;5;208m/\u001b[0mvae\u001b[38;5;208m/\u001b[0msdxl_vae.safetensors\n"
          ]
        },
        {
          "output_type": "display_data",
          "data": {
            "text/plain": [
              "<IPython.core.display.HTML object>"
            ],
            "text/html": [
              "<span style='color:red;'><br><b>【</span> <span style='color:d;'>Installing Custom Nodes</span> <span style='color:red;'>】</span> <span></b></span>"
            ]
          },
          "metadata": {}
        },
        {
          "output_type": "stream",
          "name": "stdout",
          "text": [
            "  ComfyUI_UltimateSDUpscale ▶ https://github.com/ssitu/ComfyUI_UltimateSDUpscale\n",
            "  ComfyUI_UltimateSDUpscale/repositories/ultimate_sd_upscale ▶ https://github.com/ssitu/ComfyUI_UltimateSDUpscale\n",
            "  ComfyUI-Manager ▶ https://github.com/ltdrdata/ComfyUI-Manager\n",
            "  ComfyUI-Custom-Scripts ▶ https://github.com/pythongosssss/ComfyUI-Custom-Scripts\n",
            "  SD-Latent-Upscaler ▶ https://github.com/city96/SD-Latent-Upscaler\n",
            "  efficiency-nodes-comfyui ▶ https://github.com/jags111/efficiency-nodes-comfyui\n",
            "  ComfyUI_ADV_CLIP_emb ▶ https://github.com/BlenderNeko/ComfyUI_ADV_CLIP_emb\n",
            "  ComfyUI_NestedNodeBuilder ▶ https://github.com/ssitu/ComfyUI_NestedNodeBuilder\n",
            "  ComfyUI-Advanced-ControlNet ▶ https://github.com/Kosinkadink/ComfyUI-Advanced-ControlNet\n",
            "  comfyui_controlnet_aux ▶ https://github.com/Fannovel16/comfyui_controlnet_aux\n",
            "  ComfyUI-Image-Selector ▶ https://github.com/SLAPaper/ComfyUI-Image-Selector\n",
            "  Derfuu_ComfyUI_ModdedNodes ▶ https://github.com/Derfuu/Derfuu_ComfyUI_ModdedNodes\n",
            "  ComfyUI_FizzNodes ▶ https://github.com/FizzleDorf/ComfyUI_FizzNodes\n",
            "  was-node-suite-comfyui ▶ https://github.com/WASasquatch/was-node-suite-comfyui\n",
            "\n",
            " \u001b[35m【\u001b[0m\u001b[36m#\u001b[0m\u001b[38;5;35mc4052a\u001b[0m 358\u001b[38;5;135mMiB\u001b[0m\u001b[35m/\u001b[0m359\u001b[38;5;135mMiB\u001b[0m\u001b[35m(\u001b[0m99%\u001b[35m)\u001b[0m \u001b[36mCN\u001b[0m:\u001b[38;5;208m4\u001b[0m \u001b[36mDL\u001b[0m:219\u001b[38;5;135mMiB\u001b[0m\u001b[35m】\u001b[0m\n",
            "  c4052a|\u001b[38;5;35mOK\u001b[0m  |   207MiB/s|\u001b[38;5;208m/\u001b[0mcontent\u001b[38;5;208m/\u001b[0mComfyUI\u001b[38;5;208m/\u001b[0mmodels\u001b[38;5;208m/\u001b[0mfacerestore_models\u001b[38;5;208m/\u001b[0mcodeformer.pth\n",
            " \u001b[35m【\u001b[0m\u001b[36m#\u001b[0m\u001b[38;5;35m5e91e4\u001b[0m 86\u001b[38;5;135mMiB\u001b[0m\u001b[35m/\u001b[0m332\u001b[38;5;135mMiB\u001b[0m\u001b[35m(\u001b[0m25%\u001b[35m)\u001b[0m \u001b[36mCN\u001b[0m:\u001b[38;5;208m16\u001b[0m \u001b[36mDL\u001b[0m:215\u001b[38;5;135mMiB\u001b[0m \u001b[36mETA\u001b[0m:\u001b[33m1s\u001b[0m\u001b[35m】\u001b[0m\n",
            "  5e91e4|\u001b[38;5;35mOK\u001b[0m  |   247MiB/s|\u001b[38;5;208m/\u001b[0mcontent\u001b[38;5;208m/\u001b[0mComfyUI\u001b[38;5;208m/\u001b[0mmodels\u001b[38;5;208m/\u001b[0mfacerestore_models\u001b[38;5;208m/\u001b[0mGFPGANv1.4.pth\n"
          ]
        },
        {
          "output_type": "display_data",
          "data": {
            "text/plain": [
              "<IPython.core.display.HTML object>"
            ],
            "text/html": [
              "<span style='color:red;'><br><b>【</span> <span style='color:d;'>Done</span> <span style='color:red;'>】</span> <span></b></span>"
            ]
          },
          "metadata": {}
        }
      ],
      "source": [
        "# @title WebUI Installer {\"display-mode\":\"form\"}\n",
        "\n",
        "ui = 'ComfyUI' # @param [\"A1111\", \"Forge\", \"ComfyUI\", \"ReForge\", \"SwarmUI\"]\n",
        "sd = 'XL' # @param [\"1.5\", \"XL\"]\n",
        "civitai___key = 'ae2f4f16aea68dfc3035ef5e91ec1f06' # @param {type:\"string\", placeholder:\"your Civitai API key\"}\n",
        "hf_read_token = '' # @param {type:\"string\", placeholder:\"your Huggingface READ token (optional)\"}\n",
        "\n",
        "!curl -sLo /content/setup.py https://github.com/gutris1/segsmaker/raw/main/script/KC/setup.py\n",
        "%run /content/setup.py --webui=\"$ui\" --sd=\"$sd\" --civitai_key=\"$civitai___key\" --hf_read_token=\"$hf_read_token\""
      ]
    },
    {
      "cell_type": "code",
      "source": [
        "''' SD Extensions / ComfyUI Custom Nodes '''\n",
        "%cd -q $Extensions\n",
        "!git clone\n",
        "\n",
        "''' VAE '''\n",
        "%cd -q $VAE\n",
        "%download https://civitai.com/api/download/models/1356700?type=Model&format=SafeTensor&size=full&fp=fp8\n",
        "\n",
        "''' Embeddings '''\n",
        "%cd -q $Embeddings\n",
        "%download\n",
        "\n",
        "''' Upscalers '''\n",
        "%cd -q $Upscalers\n",
        "%download\n",
        "\n",
        "''' FLUX Unet '''\n",
        "%cd -q $UNET\n",
        "%download https://civitai.com/api/download/models/1356617?type=Model&format=SafeTensor&size=pruned&fp=fp8\n",
        "\n",
        "''' FLUX Clip '''\n",
        "%cd -q $CLIP\n",
        "%download https://huggingface.co/Comfy-Org/HunyuanVideo_repackaged/resolve/main/split_files/text_encoders/llava_llama3_fp8_scaled.safetensors\n",
        "%download https://huggingface.co/Comfy-Org/HunyuanVideo_repackaged/resolve/main/split_files/text_encoders/clip_l.safetensors"
      ],
      "metadata": {
        "id": "9TeZZ9WrOsxS",
        "outputId": "4733a95b-599b-4e3a-9059-513e0563002b",
        "colab": {
          "base_uri": "https://localhost:8080/"
        }
      },
      "execution_count": 2,
      "outputs": [
        {
          "output_type": "stream",
          "name": "stdout",
          "text": [
            "fatal: You must specify a repository to clone.\n",
            "\n",
            "usage: git clone [<options>] [--] <repo> [<dir>]\n",
            "\n",
            "    -v, --verbose         be more verbose\n",
            "    -q, --quiet           be more quiet\n",
            "    --progress            force progress reporting\n",
            "    --reject-shallow      don't clone shallow repository\n",
            "    -n, --no-checkout     don't create a checkout\n",
            "    --bare                create a bare repository\n",
            "    --mirror              create a mirror repository (implies bare)\n",
            "    -l, --local           to clone from a local repository\n",
            "    --no-hardlinks        don't use local hardlinks, always copy\n",
            "    -s, --shared          setup as shared repository\n",
            "    --recurse-submodules[=<pathspec>]\n",
            "                          initialize submodules in the clone\n",
            "    --recursive ...       alias of --recurse-submodules\n",
            "    -j, --jobs <n>        number of submodules cloned in parallel\n",
            "    --template <template-directory>\n",
            "                          directory from which templates will be used\n",
            "    --reference <repo>    reference repository\n",
            "    --reference-if-able <repo>\n",
            "                          reference repository\n",
            "    --dissociate          use --reference only while cloning\n",
            "    -o, --origin <name>   use <name> instead of 'origin' to track upstream\n",
            "    -b, --branch <branch>\n",
            "                          checkout <branch> instead of the remote's HEAD\n",
            "    -u, --upload-pack <path>\n",
            "                          path to git-upload-pack on the remote\n",
            "    --depth <depth>       create a shallow clone of that depth\n",
            "    --shallow-since <time>\n",
            "                          create a shallow clone since a specific time\n",
            "    --shallow-exclude <revision>\n",
            "                          deepen history of shallow clone, excluding rev\n",
            "    --single-branch       clone only one branch, HEAD or --branch\n",
            "    --no-tags             don't clone any tags, and make later fetches not to follow them\n",
            "    --shallow-submodules  any cloned submodules will be shallow\n",
            "    --separate-git-dir <gitdir>\n",
            "                          separate git dir from working tree\n",
            "    -c, --config <key=value>\n",
            "                          set config inside the new repository\n",
            "    --server-option <server-specific>\n",
            "                          option to transmit\n",
            "    -4, --ipv4            use IPv4 addresses only\n",
            "    -6, --ipv6            use IPv6 addresses only\n",
            "    --filter <args>       object filtering\n",
            "    --remote-submodules   any cloned submodules will use their remote-tracking branch\n",
            "    --sparse              initialize sparse-checkout file to include only files at root\n",
            "\n",
            " \u001b[35m【\u001b[0m\u001b[36m#\u001b[0m\u001b[38;5;35m50ca3d\u001b[0m 119\u001b[38;5;135mMiB\u001b[0m\u001b[35m/\u001b[0m235\u001b[38;5;135mMiB\u001b[0m\u001b[35m(\u001b[0m50%\u001b[35m)\u001b[0m \u001b[36mCN\u001b[0m:\u001b[38;5;208m16\u001b[0m \u001b[36mDL\u001b[0m:179\u001b[38;5;135mMiB\u001b[0m\u001b[35m】\u001b[0m\n",
            "  50ca3d|\u001b[38;5;35mOK\u001b[0m  |   186MiB/s|\u001b[38;5;208m/\u001b[0mcontent\u001b[38;5;208m/\u001b[0mComfyUI\u001b[38;5;208m/\u001b[0mmodels\u001b[38;5;208m/\u001b[0mvae\u001b[38;5;208m/\u001b[0mhunyuanVideoSafetensors_comfyVAEFP8.safetensors\n",
            "  missing URL, downloading nothing\n",
            "  missing URL, downloading nothing\n",
            " \u001b[35m【\u001b[0m\u001b[36m#\u001b[0m\u001b[38;5;35m59236c\u001b[0m 11\u001b[38;5;135mGiB\u001b[0m\u001b[35m/\u001b[0m11\u001b[38;5;135mGiB\u001b[0m\u001b[35m(\u001b[0m98%\u001b[35m)\u001b[0m \u001b[36mCN\u001b[0m:\u001b[38;5;208m16\u001b[0m \u001b[36mDL\u001b[0m:210\u001b[38;5;135mMiB\u001b[0m\u001b[35m】\u001b[0m\n",
            "  59236c|\u001b[38;5;35mOK\u001b[0m  |   166MiB/s|\u001b[38;5;208m/\u001b[0mcontent\u001b[38;5;208m/\u001b[0mtemp\u001b[38;5;208m/\u001b[0munet\u001b[38;5;208m/\u001b[0mhunyuanVideoSafetensors_comfyDiffusionFP8.safetensors\n",
            " \u001b[35m【\u001b[0m\u001b[36m#\u001b[0m\u001b[38;5;35m3bae05\u001b[0m 8.3\u001b[38;5;135mGiB\u001b[0m\u001b[35m/\u001b[0m8.4\u001b[38;5;135mGiB\u001b[0m\u001b[35m(\u001b[0m98%\u001b[35m)\u001b[0m \u001b[36mCN\u001b[0m:\u001b[38;5;208m16\u001b[0m \u001b[36mDL\u001b[0m:190\u001b[38;5;135mMiB\u001b[0m\u001b[35m】\u001b[0m\n",
            "  3bae05|\u001b[38;5;35mOK\u001b[0m  |   207MiB/s|\u001b[38;5;208m/\u001b[0mcontent\u001b[38;5;208m/\u001b[0mtemp\u001b[38;5;208m/\u001b[0mclip\u001b[38;5;208m/\u001b[0mllava_llama3_fp8_scaled.safetensors\n",
            " \u001b[35m【\u001b[0m\u001b[36m#\u001b[0m\u001b[38;5;35m4cb5b1\u001b[0m 136\u001b[38;5;135mMiB\u001b[0m\u001b[35m/\u001b[0m234\u001b[38;5;135mMiB\u001b[0m\u001b[35m(\u001b[0m58%\u001b[35m)\u001b[0m \u001b[36mCN\u001b[0m:\u001b[38;5;208m16\u001b[0m \u001b[36mDL\u001b[0m:186\u001b[38;5;135mMiB\u001b[0m\u001b[35m】\u001b[0m\n",
            "  4cb5b1|\u001b[38;5;35mOK\u001b[0m  |   196MiB/s|\u001b[38;5;208m/\u001b[0mcontent\u001b[38;5;208m/\u001b[0mtemp\u001b[38;5;208m/\u001b[0mclip\u001b[38;5;208m/\u001b[0mclip_l.safetensors\n"
          ]
        }
      ]
    },
    {
      "cell_type": "code",
      "source": [
        "''' Checkpoint '''\n",
        "%cd -q $CKPT\n",
        "%download https://civitai.com/models/701912/bigblu25dmix-or-25d-style-finetuned-checkpoint-or-ponyxl\n",
        "\n",
        "''' LoRA '''\n",
        "%cd -q $LORA\n",
        "%download https://civitai.com/models/122359/detail-tweaker-xl\n",
        "%download https://civitai.com/models/669571/pony-add-more-details"
      ],
      "metadata": {
        "id": "CuR9tiSnPRBM"
      },
      "execution_count": null,
      "outputs": []
    },
    {
      "cell_type": "code",
      "source": [
        "''' Controlnet '''\n",
        "%run $Controlnet_Widget"
      ],
      "metadata": {
        "id": "wO4OTCOWALEc"
      },
      "execution_count": null,
      "outputs": []
    },
    {
      "cell_type": "markdown",
      "source": [
        "## Launcher\n",
        "args list :\n",
        "-  **A1111** = `--xformers`\n",
        "- **Forge** = `--disable-xformers --opt-sdp-attention --cuda-stream --pin-shared-memory`\n",
        "- **ComfyUI** = `--dont-print-server --preview-method auto --use-pytorch-cross-attention`\n",
        "- **ReForge** = `--xformers --cuda-stream --pin-shared-memory`\n",
        "- **SwarmUI** = `--launch_mode none`\n",
        "<br><br>\n",
        "\n",
        "For ComfyUI, add `--skip-comfyui-check` to skip checking custom node dependencies\n",
        "\n",
        "Add **--N=ngrok_token** to start NGROK tunnel<br>\n",
        "Add **--Z=zrok_token** to start ZROK tunnel"
      ],
      "metadata": {
        "id": "BB8pCZnrQnR9"
      }
    },
    {
      "cell_type": "code",
      "source": [
        "%cd -q $WebUI\n",
        "%run segsmaker.py --N=2sn1TrmASIZs9TeuBHjY9PcQf1v_4ieYTdLrFmUopqPaK2L1R"
      ],
      "metadata": {
        "id": "ps7AEUdGX2iE",
        "outputId": "ea702cb1-fde2-4f41-eb0d-a40cad30269a",
        "colab": {
          "base_uri": "https://localhost:8080/"
        }
      },
      "execution_count": 3,
      "outputs": [
        {
          "output_type": "stream",
          "name": "stdout",
          "text": [
            "Checking dependencies for >> 'comfyui_controlnet_aux'\n",
            "Checking dependencies for >> 'was-node-suite-comfyui'\n",
            "Checking dependencies for >> 'ComfyUI-Advanced-ControlNet'\n",
            "Checking dependencies for >> 'ComfyUI-Image-Selector'\n",
            "Checking dependencies for >> 'Derfuu_ComfyUI_ModdedNodes'\n",
            "Checking dependencies for >> 'ComfyUI-Custom-Scripts'\n",
            "Checking dependencies for >> 'SD-Latent-Upscaler'\n",
            "Checking dependencies for >> 'ComfyUI_ADV_CLIP_emb'\n",
            "Checking dependencies for >> 'ComfyUI_FizzNodes'\n",
            "Checking dependencies for >> 'efficiency-nodes-comfyui'\n",
            "Checking dependencies for >> 'ComfyUI_UltimateSDUpscale'\n",
            "Checking dependencies for >> 'ComfyUI_NestedNodeBuilder'\n",
            "Checking dependencies for >> 'ComfyUI-Manager'\n",
            "Installing 'trimesh[easy]'\n",
            "Installing 'fairscale 0.4.4'\n",
            "  Installing build dependencies ... \u001b[?25l\u001b[?25hdone\n",
            "  Getting requirements to build wheel ... \u001b[?25l\u001b[?25hdone\n",
            "  Installing backend dependencies ... \u001b[?25l\u001b[?25hdone\n",
            "  Preparing metadata (pyproject.toml) ... \u001b[?25l\u001b[?25hdone\n",
            "  Building wheel for fairscale (pyproject.toml) ... \u001b[?25l\u001b[?25hdone\n",
            "Installing 'git+https://github.com/WASasquatch/img2texture.git'\n",
            "  Installing build dependencies ... \u001b[?25l\u001b[?25hdone\n",
            "  Getting requirements to build wheel ... \u001b[?25l\u001b[?25hdone\n",
            "  Preparing metadata (pyproject.toml) ... \u001b[?25l\u001b[?25hdone\n",
            "  Building wheel for img2texture (pyproject.toml) ... \u001b[?25l\u001b[?25hdone\n",
            "Installing 'git+https://github.com/WASasquatch/cstr'\n",
            "  Installing build dependencies ... \u001b[?25l\u001b[?25hdone\n",
            "  Getting requirements to build wheel ... \u001b[?25l\u001b[?25hdone\n",
            "  Preparing metadata (pyproject.toml) ... \u001b[?25l\u001b[?25hdone\n",
            "  Building wheel for cstr (pyproject.toml) ... \u001b[?25l\u001b[?25hdone\n",
            "Installing 'opencv-python-headless[ffmpeg]'\n",
            "\u001b[33mWARNING: opencv-python-headless 4.9.0.80 does not provide the extra 'ffmpeg'\u001b[0m\u001b[33m\n",
            "\u001b[0mInstalling 'pilgram'\n",
            "\u001b[2K   \u001b[90m━━━━━━━━━━━━━━━━━━━━━━━━━━━━━━━━━━━━━━━━\u001b[0m \u001b[32m817.4/817.4 kB\u001b[0m \u001b[31m26.3 MB/s\u001b[0m eta \u001b[36m0:00:00\u001b[0m\n",
            "\u001b[?25hInstalling 'git+https://github.com/WASasquatch/ffmpy.git'\n",
            "  Installing build dependencies ... \u001b[?25l\u001b[?25hdone\n",
            "  Getting requirements to build wheel ... \u001b[?25l\u001b[?25hdone\n",
            "  Preparing metadata (pyproject.toml) ... \u001b[?25l\u001b[?25hdone\n",
            "  Building wheel for ffmpy (pyproject.toml) ... \u001b[?25l\u001b[?25hdone\n",
            "Installing 'clip-interrogator'\n",
            "\u001b[2K   \u001b[90m━━━━━━━━━━━━━━━━━━━━━━━━━━━━━━━━━━━━━━━━\u001b[0m \u001b[32m787.8/787.8 kB\u001b[0m \u001b[31m23.4 MB/s\u001b[0m eta \u001b[36m0:00:00\u001b[0m\n",
            "\u001b[?25hInstalling 'PyGithub'\n",
            "\u001b[2K   \u001b[90m━━━━━━━━━━━━━━━━━━━━━━━━━━━━━━━━━━━━━━━━\u001b[0m \u001b[32m856.7/856.7 kB\u001b[0m \u001b[31m28.8 MB/s\u001b[0m eta \u001b[36m0:00:00\u001b[0m\n",
            "\u001b[2K   \u001b[90m━━━━━━━━━━━━━━━━━━━━━━━━━━━━━━━━━━━━━━━━\u001b[0m \u001b[32m4.2/4.2 MB\u001b[0m \u001b[31m84.8 MB/s\u001b[0m eta \u001b[36m0:00:00\u001b[0m\n",
            "\u001b[?25hInstalling 'matrix-client 0.4.0'\n",
            "Installing 'typer'\n",
            "Installing 'uv'\n",
            "\u001b[2K   \u001b[90m━━━━━━━━━━━━━━━━━━━━━━━━━━━━━━━━━━━━━━━━\u001b[0m \u001b[32m16.3/16.3 MB\u001b[0m \u001b[31m126.4 MB/s\u001b[0m eta \u001b[36m0:00:00\u001b[0m\n",
            "\u001b[?25hAuthtoken saved to configuration file: /root/.config/ngrok/ngrok.yml\n",
            "\n",
            "[START] Security scan\n",
            "[DONE] Security scan\n",
            "## ComfyUI-Manager: installing dependencies done.\n",
            "** ComfyUI startup time: 2025-02-09 08:30:27.005\n",
            "** Platform: Linux\n",
            "** Python version: 3.10.15 (main, Oct 16 2024, 04:37:23) [Clang 18.1.8 ]\n",
            "** Python executable: /root/GUTRIS1/bin/python3\n",
            "** ComfyUI Path: /content/ComfyUI\n",
            "** ComfyUI Base Folder Path: /content/ComfyUI\n",
            "** User directory: /content/ComfyUI/user\n",
            "** ComfyUI-Manager config path: /content/ComfyUI/user/default/ComfyUI-Manager/config.ini\n",
            "** Log path: /content/ComfyUI/user/comfyui.log\n",
            "\n",
            "Prestartup times for custom nodes:\n",
            "   2.9 seconds: /content/ComfyUI/custom_nodes/ComfyUI-Manager\n",
            "\n",
            "Checkpoint files will always be loaded safely.\n",
            "Total VRAM 15095 MB, total RAM 12979 MB\n",
            "pytorch version: 2.5.1+cu121\n",
            "xformers version: 0.0.29.post1\n",
            "Set vram state to: NORMAL_VRAM\n",
            "Device: cuda:0 Tesla T4 : cudaMallocAsync\n",
            "Using xformers attention\n",
            "ComfyUI version: 0.3.14\n",
            "[Prompt Server] web root: /content/ComfyUI/web\n",
            "Successfully imported spandrel_extra_arches: support for non commercial upscale models.\n",
            "\u001b[36;20m[comfyui_controlnet_aux] | INFO -> Using ckpts path: /content/ComfyUI/custom_nodes/comfyui_controlnet_aux/ckpts\u001b[0m\n",
            "\u001b[36;20m[comfyui_controlnet_aux] | INFO -> Using symlinks: False\u001b[0m\n",
            "\u001b[36;20m[comfyui_controlnet_aux] | INFO -> Using ort providers: ['CUDAExecutionProvider', 'DirectMLExecutionProvider', 'OpenVINOExecutionProvider', 'ROCMExecutionProvider', 'CPUExecutionProvider', 'CoreMLExecutionProvider']\u001b[0m\n",
            "generated new fontManager\n",
            "DWPose: Onnxruntime with acceleration providers detected\n",
            "\u001b[34mWAS Node Suite: \u001b[0mCreated default conf file at `/content/ComfyUI/custom_nodes/was-node-suite-comfyui/was_suite_config.json`.\u001b[0m\n",
            "\u001b[34mWAS Node Suite: \u001b[0mBlenderNeko's Advanced CLIP Text Encode found, attempting to enable `CLIPTextEncode` support.\u001b[0m\n",
            "\u001b[34mWAS Node Suite: \u001b[0m`CLIPTextEncode (BlenderNeko Advanced + NSP)` node enabled under `WAS Suite/Conditioning` menu.\u001b[0m\n",
            "\u001b[34mWAS Node Suite: \u001b[0mOpenCV Python FFMPEG support is enabled\u001b[0m\n",
            "\u001b[34mWAS Node Suite \u001b[93mWarning: \u001b[0m`ffmpeg_bin_path` is not set in `/content/ComfyUI/custom_nodes/was-node-suite-comfyui/was_suite_config.json` config file. Will attempt to use system ffmpeg binaries if available.\u001b[0m\n",
            "\u001b[34mWAS Node Suite: \u001b[0mFinished.\u001b[0m \u001b[32mLoaded\u001b[0m \u001b[0m221\u001b[0m \u001b[32mnodes successfully.\u001b[0m\n",
            "\n",
            "\t\u001b[3m\u001b[93m\"Art is the mirror that reflects the beauty within us.\"\u001b[0m\u001b[3m - Unknown\u001b[0m\n",
            "\n",
            "Making the \"web\\extensions\\FizzleDorf\" folder\n",
            "Update to javascripts files detected\n",
            "Copying Folder here to satisfy init, eventually I'll have stuff in here..txt to extensions folder\n",
            "NumExpr defaulting to 2 threads.\n",
            "\u001b[34mFizzleDorf Custom Nodes: \u001b[92mLoaded\u001b[0m\n",
            "\u001b[36mEfficiency Nodes:\u001b[0m Attempting to add Control Net options to the 'HiRes-Fix Script' Node (comfyui_controlnet_aux add-on)...\u001b[92mSuccess!\u001b[0m\n",
            "### Loading: ComfyUI-Manager (V3.17.11)\n",
            "### ComfyUI Version: v0.3.14-10-gcaeb27c3 | Released on '2025-02-08'\n",
            "\n",
            "Import times for custom nodes:\n",
            "   0.0 seconds: /content/ComfyUI/custom_nodes/websocket_image_save.py\n",
            "   0.0 seconds: /content/ComfyUI/custom_nodes/ComfyUI-Image-Selector\n",
            "   0.0 seconds: /content/ComfyUI/custom_nodes/SD-Latent-Upscaler\n",
            "   0.0 seconds: /content/ComfyUI/custom_nodes/ComfyUI_NestedNodeBuilder\n",
            "   0.0 seconds: /content/ComfyUI/custom_nodes/ComfyUI_ADV_CLIP_emb\n",
            "   0.0 seconds: /content/ComfyUI/custom_nodes/Derfuu_ComfyUI_ModdedNodes\n",
            "   0.0 seconds: /content/ComfyUI/custom_nodes/ComfyUI-Custom-Scripts\n",
            "   0.0 seconds: /content/ComfyUI/custom_nodes/ComfyUI_UltimateSDUpscale\n",
            "   0.1 seconds: /content/ComfyUI/custom_nodes/ComfyUI-Advanced-ControlNet\n",
            "   0.1 seconds: /content/ComfyUI/custom_nodes/efficiency-nodes-comfyui\n",
            "   0.1 seconds: /content/ComfyUI/custom_nodes/ComfyUI-Manager\n",
            "   0.8 seconds: /content/ComfyUI/custom_nodes/ComfyUI_FizzNodes\n",
            "   1.6 seconds: /content/ComfyUI/custom_nodes/comfyui_controlnet_aux\n",
            "   2.0 seconds: /content/ComfyUI/custom_nodes/was-node-suite-comfyui\n",
            "\n",
            "Starting server\n",
            "\n",
            "To see the GUI go to: http://127.0.0.1:8188\n",
            "[ComfyUI-Manager] default cache updated: https://raw.githubusercontent.com/ltdrdata/ComfyUI-Manager/main/alter-list.json\n",
            "[ComfyUI-Manager] default cache updated: https://raw.githubusercontent.com/ltdrdata/ComfyUI-Manager/main/model-list.json\n",
            "[ComfyUI-Manager] default cache updated: https://raw.githubusercontent.com/ltdrdata/ComfyUI-Manager/main/github-stats.json\n",
            "[ComfyUI-Manager] default cache updated: https://raw.githubusercontent.com/ltdrdata/ComfyUI-Manager/main/extension-node-map.json\n",
            "[ComfyUI-Manager] default cache updated: https://raw.githubusercontent.com/ltdrdata/ComfyUI-Manager/main/custom-node-list.json\n",
            "\n",
            "\u001b[38;5;208m▶\u001b[0m NGROK \u001b[38;5;208m:\u001b[0m https://d42a-34-125-97-4.ngrok-free.app\n",
            "\n",
            "FETCH ComfyRegistry Data: 5/32\n",
            "FETCH ComfyRegistry Data: 10/32\n",
            "FETCH ComfyRegistry Data: 15/32\n",
            "FETCH ComfyRegistry Data: 20/32\n",
            "FETCH ComfyRegistry Data: 25/32\n",
            "FETCH ComfyRegistry Data: 30/32\n",
            "FETCH ComfyRegistry Data [DONE]\n",
            "[ComfyUI-Manager] default cache updated: https://api.comfy.org/nodes\n",
            "nightly_channel: https://raw.githubusercontent.com/ltdrdata/ComfyUI-Manager/main/remote\n",
            "FETCH DATA from: https://raw.githubusercontent.com/ltdrdata/ComfyUI-Manager/main/custom-node-list.json [DONE]\n",
            "[ComfyUI-Manager] All startup tasks have been completed.\n",
            "FETCH DATA from: /content/ComfyUI/custom_nodes/ComfyUI-Manager/extension-node-map.json [DONE]\n",
            "got prompt\n",
            "Using xformers attention in VAE\n",
            "Using xformers attention in VAE\n",
            "VAE load device: cuda:0, offload device: cpu, dtype: torch.float16\n",
            "model weight dtype torch.float8_e4m3fn, manual cast: torch.float32\n",
            "model_type FLOW\n",
            "^C\n",
            "\n",
            "NGROK Died.\n"
          ]
        }
      ]
    }
  ]
}